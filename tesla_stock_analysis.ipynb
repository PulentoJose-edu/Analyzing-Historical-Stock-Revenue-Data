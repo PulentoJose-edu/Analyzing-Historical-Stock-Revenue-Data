{
 "cells": [
  {
   "cell_type": "code",
   "execution_count": null,
   "id": "2b1d58bb",
   "metadata": {},
   "outputs": [],
   "source": [
    "import yfinance as yf\n",
    "import pandas as pd\n",
    "import matplotlib.pyplot as plt\n",
    "\n",
    "# Helper function to plot stock data\n",
    "def make_graph(stock_data, stock, title):\n",
    "    plt.figure(figsize=(14, 7))\n",
    "    plt.plot(stock_data['Date'], stock_data['Close'])\n",
    "    plt.title(title)\n",
    "    plt.xlabel('Date')\n",
    "    plt.ylabel('Close Price USD')\n",
    "    plt.grid(True)\n",
    "    plt.show()\n"
   ]
  },
  {
   "cell_type": "code",
   "execution_count": null,
   "id": "35225345",
   "metadata": {},
   "outputs": [],
   "source": [
    "# Question 1: Use yfinance to Extract Stock Data\n",
    "tesla = yf.Ticker(\"TSLA\")\n",
    "tesla_data = tesla.history(period=\"max\")\n",
    "tesla_data.reset_index(inplace=True)\n",
    "tesla_data.head()\n"
   ]
  },
  {
   "cell_type": "code",
   "execution_count": null,
   "id": "b860e275",
   "metadata": {},
   "outputs": [],
   "source": [
    "# Question 2: Use Webscraping to Extract Tesla Revenue Data\n",
    "import requests\n",
    "from bs4 import BeautifulSoup\n",
    "\n",
    "url = \"https://www.macrotrends.net/stocks/charts/TSLA/tesla/revenue\"\n",
    "html = requests.get(url).text\n",
    "soup = BeautifulSoup(html, \"html.parser\")\n",
    "tables = soup.find_all(\"table\")\n",
    "for table in tables:\n",
    "    if \"Tesla Quarterly Revenue\" in table.text:\n",
    "        tesla_revenue = pd.read_html(str(table))[0]\n",
    "        break\n",
    "tesla_revenue.columns = [\"Date\", \"Revenue\"]\n",
    "tesla_revenue = tesla_revenue[tesla_revenue[\"Revenue\"] != \"Revenue\"]\n",
    "tesla_revenue.tail()\n"
   ]
  },
  {
   "cell_type": "code",
   "execution_count": null,
   "id": "26e9eebf",
   "metadata": {},
   "outputs": [],
   "source": [
    "# Question 3: Use yfinance to Extract Stock Data\n",
    "gme = yf.Ticker(\"GME\")\n",
    "gme_data = gme.history(period=\"max\")\n",
    "gme_data.reset_index(inplace=True)\n",
    "gme_data.head()\n"
   ]
  },
  {
   "cell_type": "code",
   "execution_count": null,
   "id": "e2a4ec38",
   "metadata": {},
   "outputs": [],
   "source": [
    "# Question 4: Use Webscraping to Extract GME Revenue Data\n",
    "url = \"https://www.macrotrends.net/stocks/charts/GME/gamestop/revenue\"\n",
    "html = requests.get(url).text\n",
    "soup = BeautifulSoup(html, \"html.parser\")\n",
    "tables = soup.find_all(\"table\")\n",
    "for table in tables:\n",
    "    if \"GameStop Quarterly Revenue\" in table.text:\n",
    "        gme_revenue = pd.read_html(str(table))[0]\n",
    "        break\n",
    "gme_revenue.columns = [\"Date\", \"Revenue\"]\n",
    "gme_revenue = gme_revenue[gme_revenue[\"Revenue\"] != \"Revenue\"]\n",
    "gme_revenue.tail()\n"
   ]
  },
  {
   "cell_type": "code",
   "execution_count": null,
   "id": "a42a1e0a",
   "metadata": {},
   "outputs": [],
   "source": [
    "# Question 5: Plot Tesla Stock Graph\n",
    "make_graph(tesla_data, 'TSLA', 'Tesla Stock Price Over Time')\n"
   ]
  },
  {
   "cell_type": "code",
   "execution_count": null,
   "id": "de7b4d2a",
   "metadata": {},
   "outputs": [],
   "source": [
    "# Question 6: Plot GameStop Stock Graph\n",
    "make_graph(gme_data, 'GME', 'GameStop Stock Price Over Time')\n"
   ]
  }
 ],
 "metadata": {},
 "nbformat": 4,
 "nbformat_minor": 5
}
